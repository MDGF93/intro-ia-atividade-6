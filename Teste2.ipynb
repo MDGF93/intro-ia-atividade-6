{
 "cells": [
  {
   "cell_type": "markdown",
   "id": "df98e28b-5222-4663-b6d5-f8b13624c423",
   "metadata": {},
   "source": [
    "<div class=\"alert alert-block alert-warning\">\n",
    "1. Com o espaço de estados das cidades da Romênia, escolha duas cidades para buscar uma rota usando a implementação de busca em largura que foi vista nos vídeos. Mostre o passo a passo da busca. \n",
    "</div>"
   ]
  },
  {
   "cell_type": "code",
   "execution_count": 1,
   "id": "1d9b1f7a-85ff-4d22-90cb-d6189b67cf8c",
   "metadata": {},
   "outputs": [],
   "source": [
    "def acao(destino, custo):\n",
    "    return {\"destino\": destino, \"custo\": custo}\n",
    "\n",
    "estados_romenia = [\n",
    "    {\"estado\": \"Arad\", \"acoes\": [acao(\"Zerind\", 75), acao(\"Sibiu\", 140), acao(\"Timisoara\", 118)]},\n",
    "    {\"estado\": \"Zerind\", \"acoes\": [acao(\"Arad\", 75), acao(\"Oradea\", 71)]},\n",
    "    {\"estado\": \"Timisoara\", \"acoes\": [acao(\"Arad\", 118), acao(\"Lugoj\", 111)]},\n",
    "    {\"estado\": \"Sibiu\",\"acoes\": [acao(\"Arad\", 140), acao(\"Oradea\", 151), acao(\"Fagaras\", 99), acao(\"Rimnicu Vilcea\", 80)]},\n",
    "    {\"estado\": \"Oradea\", \"acoes\": [acao(\"Zerind\", 71), acao(\"Sibiu\", 151)]},\n",
    "    {\"estado\": \"Lugoj\", \"acoes\": [acao(\"Timisoara\", 111), acao(\"Mehadia\", 70)]},\n",
    "    {\"estado\": \"Mehadia\", \"acoes\": [acao(\"Lugoj\", 70), acao(\"Drobeta\", 75)]},\n",
    "    {\"estado\": \"Drobeta\", \"acoes\": [acao(\"Mehadia\", 75), acao(\"Craiova\", 120)]},\n",
    "    {\"estado\": \"Craiova\", \"acoes\": [acao(\"Drobeta\", 120), acao(\"Rimnicu Vilcea\", 146), acao(\"Pitesti\", 138)]},\n",
    "    {\"estado\": \"Rimnicu Vilcea\", \"acoes\": [acao(\"Sibiu\", 80), acao(\"Craiova\", 146), acao(\"Pitesti\", 97)]},\n",
    "    {\"estado\": \"Fagaras\", \"acoes\": [acao(\"Sibiu\", 99), acao(\"Bucharest\", 211)]},\n",
    "    {\"estado\": \"Pitesti\", \"acoes\": [acao(\"Rimnicu Vilcea\", 97), acao(\"Craiova\", 138), acao(\"Bucharest\", 101)]},\n",
    "    {\"estado\": \"Giurgiu\", \"acoes\": [acao(\"Bucharest\", 90)]},\n",
    "    {\"estado\": \"Bucharest\", \"acoes\": [acao(\"Fagaras\", 211), acao(\"Pitesti\", 101), acao(\"Giurgiu\", 90), acao(\"Urziceni\", 85)]},\n",
    "    {\"estado\": \"Urziceni\", \"acoes\": [acao(\"Bucharest\", 85), acao(\"Vaslui\", 142), acao(\"Hirsova\", 98)]},\n",
    "    {\"estado\": \"Hirsova\", \"acoes\": [acao(\"Urziceni\", 98), acao(\"Eforie\", 86)]},\n",
    "    {\"estado\": \"Eforie\", \"acoes\": [acao(\"Hirsova\", 86)]},\n",
    "    {\"estado\": \"Vaslui\", \"acoes\": [acao(\"Urziceni\", 142), acao(\"Iasi\", 92)]},\n",
    "    {\"estado\": \"Iasi\", \"acoes\": [acao(\"Vaslui\", 92), acao(\"Neamt\", 87)]},\n",
    "    {\"estado\": \"Neamt\", \"acoes\": [acao(\"Iasi\", 87)]}\n",
    "]\n",
    "\n",
    "class No:\n",
    "    def __init__(self, estado, custo, pai, acao):\n",
    "        self.estado = estado\n",
    "        self.custo = custo\n",
    "        self.pai = pai\n",
    "        self.acao = acao\n",
    "\n",
    "    def __str__(self):\n",
    "        return f'({self.estado}, {self.custo})'\n",
    "\n",
    "    def __repr__(self):\n",
    "        return self.__str__()\n",
    "\n",
    "    def filhos(self, problema):\n",
    "        espaco_acoes = next(e for e in problema.espaco_estados if e['estado'] == self.estado)\n",
    "\n",
    "        resultado = []\n",
    "        for acao in espaco_acoes['acoes']:\n",
    "            filho = No(acao['destino'], self.custo + acao['custo'],\n",
    "                       self, acao['destino'])\n",
    "            resultado.append(filho)\n",
    "\n",
    "        return resultado\n",
    "\n",
    "    def constroi_solucao(self):\n",
    "        no_atual = self\n",
    "        solucao = [no_atual]\n",
    "        while no_atual.pai != None:\n",
    "            no_atual = no_atual.pai\n",
    "            solucao.insert(0, no_atual)\n",
    "\n",
    "        return solucao\n",
    "\n",
    "class Problema:\n",
    "    def __init__(self, espaco_estados, inicial, objetivo):\n",
    "        self.espaco_estados = espaco_estados\n",
    "        self.inicial = inicial\n",
    "        self.objetivo = objetivo\n",
    "\n",
    "\n",
    "BUSCA_INICIANDO = 0\n",
    "BUSCA_FALHOU = 1\n",
    "BUSCA_SUCESSO = 2\n",
    "BUSCA_EM_CURSO = 3\n",
    "\n",
    "class BuscaLargura:\n",
    "    def __init__(self, problema):\n",
    "        self.problema = problema\n",
    "        self.fronteira = [problema.inicial]\n",
    "        self.visitados = [problema.inicial.estado]\n",
    "        self.solucao = []\n",
    "        self.situacao = BUSCA_INICIANDO\n",
    "\n",
    "    def executar(self):\n",
    "        while self.situacao != BUSCA_FALHOU and self.situacao != BUSCA_SUCESSO:\n",
    "            self.passo_busca()\n",
    "\n",
    "        if self.situacao == BUSCA_FALHOU:\n",
    "            print(\"Busca falhou\")\n",
    "        elif self.situacao == BUSCA_SUCESSO:\n",
    "            print(\"Busca teve sucesso\")\n",
    "            print(f\"Solucao: {self.solucao}\")\n",
    "\n",
    "        return\n",
    "\n",
    "    def passo_busca(self):\n",
    "        if (self.situacao == BUSCA_FALHOU):\n",
    "            print(\"Busca falhou\")\n",
    "            return\n",
    "\n",
    "        if (self.situacao == BUSCA_SUCESSO):\n",
    "            print(\"Busca chegou ao objetivo com sucesso\")\n",
    "            return\n",
    "\n",
    "        try:\n",
    "            no = self.fronteira.pop(0)\n",
    "        except IndexError:\n",
    "            self.situacao = BUSCA_FALHOU\n",
    "            return\n",
    "\n",
    "        # faz teste do objetivo\n",
    "        if self.problema.objetivo(no):\n",
    "            self.situacao = BUSCA_SUCESSO\n",
    "            self.solucao = no.constroi_solucao()\n",
    "            return\n",
    "\n",
    "        # obtem os filhos do no\n",
    "        for filho in no.filhos(self.problema):\n",
    "            if not (filho in self.fronteira) and not (filho.estado in self.visitados):\n",
    "                self.fronteira.append(filho)\n",
    "                self.visitados.append(filho.estado)\n",
    "        return\n",
    "    \n",
    "    \n",
    "\n",
    "def passo_a_passo(busca):\n",
    "    print(\"\")\n",
    "    print(\"----------------------------------------------------------------\")\n",
    "    print(f\"Fronteira: {busca.fronteira}\")\n",
    "    print(f\"Visitados: {busca.visitados}\")\n",
    "    busca.passo_busca()\n",
    "    print(f\"Próximo nó a ser visitado: {busca.fronteira[0]}\")\n",
    "    print(\"----------------------------------------------------------------\")\n",
    "    print(\"\")\n",
    "    \n",
    "#no_arad = No('Arad', 0, None, None)\n",
    "#problema_romenia = Problema(cidades_romenia, no_arad, lambda no: no.estado == 'Bucharest')"
   ]
  },
  {
   "cell_type": "markdown",
   "id": "e601a398-7eff-420e-8671-19295bec5143",
   "metadata": {},
   "source": [
    "Tendo em mente que os nós do grafo estão distribuídos das seguintes maneiras:\n",
    "\n",
    "<center><img src=\"https://i.imgur.com/kC7DAJD.png\" alt=\"Grafo romenia\" width=\"500\" height=\"600\"></center> \n",
    " \n",
    " Vamos aplicar o método de busca em largura para gerar um percurso de ***Craiova*** até ***Arad***\n",
    " \n",
    " É esperado que o algoritmo siga uma ordem tal qual a ordem descrita na imagem abaixo:\n",
    " <center><img src=\"https://i.imgur.com/46J6eUX.png\" alt=\"Grafo romenia\" width=\"500\" height=\"600\"></center>\n",
    " \n",
    " \n",
    "Onde ele começa pela cidade de **Craiova**, e então vai explorando primeiramente os nós que estão diretamente conectados à Craiova, os nós que estão a **um nível** de distância de Craiova(Rimnicu Vilcea, Pitesti e Drobeta), para então visitarem os nós que estão a uma distância de **dois níveis** (Sibiu, Bucharest e Mehadia) e assim em diante até que seja encontrado o destino final, **Arad**\n",
    " "
   ]
  },
  {
   "cell_type": "code",
   "execution_count": 2,
   "id": "6925e706-9ff5-4771-aa8f-0344a0965823",
   "metadata": {},
   "outputs": [
    {
     "name": "stdout",
     "output_type": "stream",
     "text": [
      "\n",
      "----------------------------------------------------------------\n",
      "Fronteira: [(Craiova, 0)]\n",
      "Visitados: ['Craiova']\n",
      "Próximo nó a ser visitado: (Drobeta, 120)\n",
      "----------------------------------------------------------------\n",
      "\n",
      "\n",
      "----------------------------------------------------------------\n",
      "Fronteira: [(Drobeta, 120), (Rimnicu Vilcea, 146), (Pitesti, 138)]\n",
      "Visitados: ['Craiova', 'Drobeta', 'Rimnicu Vilcea', 'Pitesti']\n",
      "Próximo nó a ser visitado: (Rimnicu Vilcea, 146)\n",
      "----------------------------------------------------------------\n",
      "\n",
      "\n",
      "----------------------------------------------------------------\n",
      "Fronteira: [(Rimnicu Vilcea, 146), (Pitesti, 138), (Mehadia, 195)]\n",
      "Visitados: ['Craiova', 'Drobeta', 'Rimnicu Vilcea', 'Pitesti', 'Mehadia']\n",
      "Próximo nó a ser visitado: (Pitesti, 138)\n",
      "----------------------------------------------------------------\n",
      "\n",
      "\n",
      "----------------------------------------------------------------\n",
      "Fronteira: [(Pitesti, 138), (Mehadia, 195), (Sibiu, 226)]\n",
      "Visitados: ['Craiova', 'Drobeta', 'Rimnicu Vilcea', 'Pitesti', 'Mehadia', 'Sibiu']\n",
      "Próximo nó a ser visitado: (Mehadia, 195)\n",
      "----------------------------------------------------------------\n",
      "\n",
      "\n",
      "----------------------------------------------------------------\n",
      "Fronteira: [(Mehadia, 195), (Sibiu, 226), (Bucharest, 239)]\n",
      "Visitados: ['Craiova', 'Drobeta', 'Rimnicu Vilcea', 'Pitesti', 'Mehadia', 'Sibiu', 'Bucharest']\n",
      "Próximo nó a ser visitado: (Sibiu, 226)\n",
      "----------------------------------------------------------------\n",
      "\n",
      "\n",
      "----------------------------------------------------------------\n",
      "Fronteira: [(Sibiu, 226), (Bucharest, 239), (Lugoj, 265)]\n",
      "Visitados: ['Craiova', 'Drobeta', 'Rimnicu Vilcea', 'Pitesti', 'Mehadia', 'Sibiu', 'Bucharest', 'Lugoj']\n",
      "Próximo nó a ser visitado: (Bucharest, 239)\n",
      "----------------------------------------------------------------\n",
      "\n",
      "\n",
      "----------------------------------------------------------------\n",
      "Fronteira: [(Bucharest, 239), (Lugoj, 265), (Arad, 366), (Oradea, 377), (Fagaras, 325)]\n",
      "Visitados: ['Craiova', 'Drobeta', 'Rimnicu Vilcea', 'Pitesti', 'Mehadia', 'Sibiu', 'Bucharest', 'Lugoj', 'Arad', 'Oradea', 'Fagaras']\n",
      "Próximo nó a ser visitado: (Lugoj, 265)\n",
      "----------------------------------------------------------------\n",
      "\n",
      "\n",
      "----------------------------------------------------------------\n",
      "Fronteira: [(Lugoj, 265), (Arad, 366), (Oradea, 377), (Fagaras, 325), (Giurgiu, 329), (Urziceni, 324)]\n",
      "Visitados: ['Craiova', 'Drobeta', 'Rimnicu Vilcea', 'Pitesti', 'Mehadia', 'Sibiu', 'Bucharest', 'Lugoj', 'Arad', 'Oradea', 'Fagaras', 'Giurgiu', 'Urziceni']\n",
      "Próximo nó a ser visitado: (Arad, 366)\n",
      "----------------------------------------------------------------\n",
      "\n",
      "\n",
      "----------------------------------------------------------------\n",
      "Fronteira: [(Arad, 366), (Oradea, 377), (Fagaras, 325), (Giurgiu, 329), (Urziceni, 324), (Timisoara, 376)]\n",
      "Visitados: ['Craiova', 'Drobeta', 'Rimnicu Vilcea', 'Pitesti', 'Mehadia', 'Sibiu', 'Bucharest', 'Lugoj', 'Arad', 'Oradea', 'Fagaras', 'Giurgiu', 'Urziceni', 'Timisoara']\n",
      "Próximo nó a ser visitado: (Oradea, 377)\n",
      "----------------------------------------------------------------\n",
      "\n"
     ]
    }
   ],
   "source": [
    "problema_craiova_arad = Problema(estados_romenia, No('Craiova', 0, None, None), lambda no: no.estado == 'Arad')\n",
    "busca_largura_craiova_arad = BuscaLargura(problema_craiova_arad)\n",
    "while busca_largura_craiova_arad.situacao != BUSCA_SUCESSO:\n",
    "    passo_a_passo(busca_largura_craiova_arad)"
   ]
  },
  {
   "cell_type": "markdown",
   "id": "78d21efc-78f2-4ef4-b730-148520f8535c",
   "metadata": {},
   "source": [
    "<div class=\"alert alert-block alert-info\">\n",
    "Podemos ver que, o que foi esperado de fato aconteceu, a rota traçada pelo algoritmo foi:\n",
    "\n",
    "<code style=\"background:black;color:white\">Craiova -> Drobeta -> Rimnicu Vilcea -> Pitesti ->\n",
    "Mehadia -> Sibiu -> Bucharest -> Lugoj -> Arad</code>\n",
    "</div>"
   ]
  },
  {
   "cell_type": "markdown",
   "id": "14b291cd-c709-4847-bdd7-d15dc6990197",
   "metadata": {},
   "source": [
    "<div class=\"alert alert-block alert-warning\">\n",
    "    2. Usando a implementação de busca em largura que foi vista no vídeo como base, crie uma\n",
    "    implementação similar para a busca em profundidade. O vídeo sobre busca em\n",
    "    profundidade explica qual alteração deve ser feita. Se o grupo preferir usar outra\n",
    "    linguagem, pode portar o código que foi desenvolvido nas aulas para outra linguagem, e\n",
    "    implementar a busca em profundidade. A implementação deve seguir o modelo da busca\n",
    "    em largura e ter uma função que permita executar apenas um passo da busca de cada vez.\n",
    "</div>"
   ]
  },
  {
   "cell_type": "markdown",
   "id": "1c462c0e-afff-464f-8b30-658e7f811520",
   "metadata": {},
   "source": [
    "<div class=\"alert alert-block alert-info\">\n",
    "A diferença entre a busca em largura e a busca em profundidade é a estrutura de dado utilizada para gerenciar os nós que serão visitados, na <b>busca em largura (BFS)</b> utiliza-se uma <b>fila</b>, e o método que rege a fila é o <b>First In, First Out (FIFO)</b>, isso implica em dizer que os nós que serão descobertos por último serão explorados por último, por isso a busca em largura se dá em níveis de distância do nó de partida. Enquanto isso na <b>busca em profundidade (DFS)</b>, a estrutura de dado utilizada para gerenciar os nós é a <b>pilha</b>, e a fila segue o método <b>First In, Last Out (FILO)</b>, onde os nós que são descobertos no começo perdem preferência para os nós que são recém-descobertos, e então o algoritmo tende a seguir uma linha e ir explorando os nós que estão mais distantes ao nó inicial.\n",
    "<br>\n",
    "<br>\n",
    "\n",
    "\n",
    "Utilizando o <b>DFS</b> para resolver o mesmo problema da questão anterior de encontrar um caminho saindo de <b>Craiova até Arad</b> um resultado possível seria tal qual está descrito na imagem abaixo:\n",
    "    \n",
    "<center><img src='https://i.imgur.com/MFXFiVT.png' width=500, height=600></center>\n",
    "    \n",
    "\n",
    "Podemos notar que o algoritmo de DFS explora em níveis bastante distantes do nó de partida\n",
    "</div>\n"
   ]
  },
  {
   "cell_type": "code",
   "execution_count": 3,
   "id": "85ad9528-dcf1-4d7f-b53e-d7800633a707",
   "metadata": {},
   "outputs": [],
   "source": [
    "#Utilizando-se do código do professor para indicar a única mudança necessária\n",
    "#para transformar um algoritmo de busca em largura para um de busca em profundidade\n",
    "class BuscaProfundidade:\n",
    "    def __init__(self, problema):\n",
    "        self.problema = problema\n",
    "        self.fronteira = [problema.inicial]\n",
    "        self.visitados = [problema.inicial.estado]\n",
    "        self.solucao = []\n",
    "        self.situacao = BUSCA_INICIANDO\n",
    "\n",
    "    def executar(self):\n",
    "        while self.situacao != BUSCA_FALHOU and self.situacao != BUSCA_SUCESSO:\n",
    "            self.passo_busca()\n",
    "\n",
    "        if self.situacao == BUSCA_FALHOU:\n",
    "            print(\"Busca falhou\")\n",
    "        elif self.situacao == BUSCA_SUCESSO:\n",
    "            print(\"Busca teve sucesso\")\n",
    "            print(f\"Solucao: {self.solucao}\")\n",
    "\n",
    "        return\n",
    "\n",
    "    def passo_busca(self):\n",
    "        if (self.situacao == BUSCA_FALHOU):\n",
    "            print(\"Busca falhou\")\n",
    "            return\n",
    "\n",
    "        if (self.situacao == BUSCA_SUCESSO):\n",
    "            print(\"Busca chegou ao objetivo com sucesso\")\n",
    "            return\n",
    "\n",
    "        try:\n",
    "            #Unica alteração necessária para mudar o algoritmo de busca em largura para profundidade\n",
    "            #Código original: no = self.fronteira.pop(0)\n",
    "            no = self.fronteira.pop()\n",
    "        except IndexError:\n",
    "            self.situacao = BUSCA_FALHOU\n",
    "            return\n",
    "\n",
    "        # faz teste do objetivo\n",
    "        if self.problema.objetivo(no):\n",
    "            self.situacao = BUSCA_SUCESSO\n",
    "            self.solucao = no.constroi_solucao()\n",
    "            return\n",
    "\n",
    "        # obtem os filhos do no\n",
    "        for filho in no.filhos(self.problema):\n",
    "            if not (filho in self.fronteira) and not (filho.estado in self.visitados):\n",
    "                self.fronteira.append(filho)\n",
    "                self.visitados.append(filho.estado)\n",
    "        return"
   ]
  },
  {
   "cell_type": "code",
   "execution_count": 4,
   "id": "77b84ad4-a3b4-4462-856c-15f10f13174f",
   "metadata": {},
   "outputs": [],
   "source": [
    "#Funções auxiliares para os algoritmos de busca\n",
    "import networkx as nx\n",
    "import matplotlib.pyplot as plt\n",
    "import matplotlib.patheffects as pe\n",
    "import sys\n",
    "\n",
    "def ilustrar_percurso(percurso):\n",
    "    for i in range(len(percurso)-1):\n",
    "        print(percurso[i], end=\" -> \")\n",
    "    print(percurso[-1])\n",
    "\n",
    "def get_estado(estado):\n",
    "    for e in estados_romenia:\n",
    "        if e[\"estado\"] == estado:\n",
    "            return e\n",
    "    return None\n",
    "\n",
    "def get_all_acoes(estado):\n",
    "    return get_estado(estado)['acoes']\n",
    "\n",
    "def get_custo(estado, destino):\n",
    "    for acao in get_all_acoes(estado):\n",
    "        if acao[\"destino\"] == destino:\n",
    "            return acao[\"custo\"]\n",
    "    return False\n",
    "\n",
    "def get_custo_total(percurso):\n",
    "    custo_total = 0\n",
    "    for i in range(len(percurso)-1):\n",
    "        custo_total += get_custo(percurso[i], percurso[i+1])\n",
    "    return custo_total\n",
    "\n",
    "def get_all_destinos(estado):\n",
    "    destinos = []\n",
    "    for acao in get_all_acoes(estado):\n",
    "        destinos.append(acao[\"destino\"])\n",
    "    return destinos\n",
    "\n",
    "def get_viable_path_from_algo(algoritmo):\n",
    "    '''\n",
    "    Retorna um caminho viável a partir do resultado de um algoritmo de busca\n",
    "    '''\n",
    "    viable_path = []\n",
    "    starting_point = algoritmo[0]\n",
    "    ending_point = algoritmo[-1]\n",
    "    viable_path.append(starting_point)\n",
    "    ultimo_ponto_de_viabilidade = ending_point\n",
    "    for i in range(1, len(algoritmo)-1):\n",
    "        all_destinos = get_all_destinos(ultimo_ponto_de_viabilidade).copy()\n",
    "        random.shuffle(all_destinos)\n",
    "        if algoritmo[-1-i] in all_destinos:\n",
    "            ultimo_ponto_de_viabilidade = algoritmo[-1-i]\n",
    "            viable_path.insert(1, ultimo_ponto_de_viabilidade)\n",
    "    viable_path.append(ending_point)\n",
    "    return viable_path\n",
    "\n",
    "\n",
    "def brute_force_lowest_cost(starting_point, max_iter=1000):\n",
    "    '''\n",
    "    Função que realiza uma busca em força bruta para encontrar o menor custo de um caminho entre dois pontos.\n",
    "    '''\n",
    "    def dfs_completo(start):\n",
    "        pilha = [start]\n",
    "        algoritmo = []\n",
    "        while pilha:\n",
    "            estado_atual = pilha.pop()\n",
    "            algoritmo.append(estado_atual)\n",
    "            all_acoes = get_all_acoes(estado_atual).copy()\n",
    "            random.shuffle(all_acoes)\n",
    "            for acao in all_acoes:\n",
    "                if acao[\"destino\"] not in algoritmo and acao[\"destino\"] not in pilha:\n",
    "                    pilha.append(acao[\"destino\"])\n",
    "        return algoritmo\n",
    "\n",
    "    highest_cost = 0\n",
    "    lowest_cost = 100000\n",
    "    lowest_cost_path = []\n",
    "    highest_cost_path = []\n",
    "    for i in range(max_iter):\n",
    "        algo = dfs_completo(starting_point)\n",
    "        custo_total = get_custo_total(algo)\n",
    "        if custo_total < lowest_cost:\n",
    "            lowest_cost = custo_total\n",
    "            lowest_cost_path = algo\n",
    "        if custo_total > highest_cost:\n",
    "            highest_cost = custo_total\n",
    "            highest_cost_path = algo\n",
    "    return {'lowest_cost': lowest_cost, 'lowest_cost_path': lowest_cost_path, 'highest_cost': highest_cost, 'highest_cost_path': highest_cost_path}\n",
    "\n",
    "def highlight_path(algoritmo, cost, viable_path):\n",
    "    '''\n",
    "    Função que desenha o grafo com os estados da Bulgária, o caminho percorrido pelo algoritmo até o ponto final, e um possível caminho viável.\n",
    "    O custo se dá pelo somatório do custo de deslocamento para cada par de estados do possível caminho viável.\n",
    "    '''\n",
    "    G = nx.Graph()\n",
    "    for estado in estados_romenia:\n",
    "        for acao in estado[\"acoes\"]:\n",
    "            G.add_edge(estado[\"estado\"], acao[\"destino\"], weight=acao[\"custo\"])\n",
    "    pos = nx.kamada_kawai_layout(G)\n",
    "    nx.draw(G, pos, with_labels=True, font_color='black', font_weight='bold', node_size=300, node_color='skyblue', font_size=8,\n",
    "    width=1, edge_color='black', alpha=1, arrows=True, arrowstyle='<->',  arrowsize=10,\n",
    "    connectionstyle='arc3, rad=0.15', style='dashed', edge_cmap=plt.cm.Blues, edge_vmin=0, edge_vmax=1,\n",
    "    linewidths=1, label='Romenia', font_family='sans-serif')\n",
    "    labels = nx.get_edge_attributes(G,'weight')\n",
    "    nx.draw_networkx_edge_labels(G, pos, edge_labels=labels, font_size=5, font_color=\"red\", font_weight=\"bold\", label_pos=0.5, rotate=False)\n",
    "    #increase the size of the graph\n",
    "    fig = plt.gcf()\n",
    "    fig.set_size_inches(5, 5)\n",
    "    fig.set_dpi(150)\n",
    "\n",
    "    plt.text(-0.00, 0.99, f\"Vermelho: Estados visitados pelo algoritmo\\nVerde: Rota viável\", fontsize=5, bbox=dict(facecolor='white'), horizontalalignment='left', verticalalignment='top', transform=plt.gca().transAxes)\n",
    "\n",
    "    for estado in algoritmo:\n",
    "        nx.draw_networkx_nodes(G, pos, nodelist=[estado], node_color='red', node_size=300, alpha=1)\n",
    "        #Put numbers on top of the nodes according to the order they were visited\n",
    "        plt.text(pos[estado][0]*1, pos[estado][1]-0.1, str(algoritmo.index(estado)), fontsize=5, fontweight='bold', color='white', horizontalalignment='center', verticalalignment='center',\n",
    "        path_effects=[pe.withStroke(linewidth=2, foreground='red'), pe.Normal()])\n",
    "    #Draw a square on the corner of the graph to show the cost\n",
    "    for estado in viable_path:\n",
    "        nx.draw_networkx_nodes(G, pos, nodelist=[estado], node_color='green', node_size=300, alpha=1)\n",
    "        plt.text(pos[estado][0]*1, pos[estado][1]+0.1, str(viable_path.index(estado)), fontsize=5, fontweight='bold', color='black', horizontalalignment='center', verticalalignment='center',\n",
    "        path_effects=[pe.withStroke(linewidth=2, foreground='green')],\n",
    "        )\n",
    "\n",
    "    plt.title(f\"Custo total da rota viável: {cost}\", fontsize=5, fontweight='bold', color='black', loc='left', horizontalalignment='left', verticalalignment='center')\n",
    "    \n",
    "\n",
    "def illustrate_stack(stack):\n",
    "    for idx, estado in enumerate(reversed(stack)):\n",
    "        print(\" ╭――――――――――――――――――╮\")\n",
    "        print(f\" │ {estado.center(15)}  │\", end=\"\")\n",
    "        if idx == 0:\n",
    "            print(\" <--- Próximo destino\")\n",
    "        else:\n",
    "            print(\"\")\n",
    "        print(\" ╰――――――――――――――――――╯\")\n",
    "        if idx == len(stack) - 1:\n",
    "            print(\"└─────────┬───────────┘\")\n",
    "            print(\"        Pilha\")\n",
    "    print(\"\")\n",
    "\n",
    "    \n",
    "def illustrate_queue(queue):\n",
    "    queue_reverse = queue[::-1].copy()\n",
    "    for i in range(len(queue)):\n",
    "        print(\" ╭――――――――――――――――――╮\")\n",
    "        print(f\" │ {queue_reverse[i].center(15)}  │\", end=\"\")\n",
    "        if i == len(queue) - 1:\n",
    "            print(\" <--- Próximo destino\")\n",
    "        else:\n",
    "            print(\"\")\n",
    "        print(\" ╰――――――――――――――――――╯\")\n",
    "        if i == len(queue) - 1:\n",
    "            print(\"└─────────┬───────────┘\")\n",
    "            print(\"        Fila\")\n",
    "    print(\"\")\n",
    "\n",
    "def clear_output(wait=False): #Por alguma razão o Jupyter não estava conseguind oacessar essa função padrão do Python.\n",
    "    \"\"\"Clear the output of the current cell receiving output.\n",
    "\n",
    "    Parameters\n",
    "    ----------\n",
    "    wait : bool [default: false]\n",
    "        Wait to clear the output until new output is available to replace it.\"\"\"\n",
    "    from IPython.core.interactiveshell import InteractiveShell\n",
    "    if InteractiveShell.initialized():\n",
    "        InteractiveShell.instance().display_pub.clear_output(wait)\n",
    "    else:\n",
    "        print('\\033[2K\\r', end='')\n",
    "        sys.stdout.flush()\n",
    "        print('\\033[2K\\r', end='')\n",
    "        sys.stderr.flush()"
   ]
  },
  {
   "cell_type": "code",
   "execution_count": 5,
   "id": "3694135e-851a-4cbb-b980-a44b0ca0adb8",
   "metadata": {},
   "outputs": [],
   "source": [
    "#Alternativa de implementação para DFS:\n",
    "import random, time\n",
    "random.seed(0)\n",
    "\n",
    "def dfs(start, goal, illustrate=False, optimize=True):\n",
    "    if start == goal:\n",
    "        return [start]\n",
    "    pilha = [start]\n",
    "    algoritmo = []\n",
    "    while pilha:\n",
    "        estado_atual = pilha.pop()\n",
    "        algoritmo.append(estado_atual)\n",
    "        all_acoes = get_all_acoes(estado_atual).copy()\n",
    "        random.shuffle(all_acoes) #Para permitir que o algoritmo escolha caminhos diferentes toda vez que for chamado\n",
    "        if optimize:\n",
    "            if goal in get_all_destinos(estado_atual):\n",
    "                algoritmo.append(goal)\n",
    "                pilha.append(goal)\n",
    "                if illustrate:\n",
    "                    print(f\"Estado atual: {estado_atual}\")\n",
    "                    illustrate_stack(pilha)\n",
    "                    print(\"\\n\")\n",
    "                return algoritmo\n",
    "            for acao in all_acoes:\n",
    "                #Evita que entrem na fila\n",
    "                if acao[\"destino\"] not in algoritmo and acao[\"destino\"] not in pilha:\n",
    "                    pilha.append(acao[\"destino\"])\n",
    "        else:\n",
    "            if estado_atual == goal:\n",
    "                return algoritmo\n",
    "            for acao in all_acoes:\n",
    "                if acao[\"destino\"] not in algoritmo:\n",
    "                    pilha.append(acao[\"destino\"])\n",
    "        if illustrate:\n",
    "            print(f\"Estado atual: {estado_atual}\")\n",
    "            illustrate_stack(pilha)\n",
    "            time.sleep(2)\n",
    "            print(\"\\n\")\n",
    "    return False"
   ]
  },
  {
   "cell_type": "markdown",
   "id": "28eae06d-c3d4-43d2-bbfe-4c1d883a051d",
   "metadata": {},
   "source": [
    "<div class=\"alert alert-block alert-info\">\n",
    "<b>Usando então o algoritmo de DFS desenvolvido acima</b>, aplicado para o mesmo problema de encontrar um caminho de <b>Craiova até Arad</b> obtemos o seguinte resultado:\n",
    "\n",
    "<code style=\"background:black;color:white\">Craiova -> Rimnicu Vilcea -> Sibiu -> Arad</code>\n",
    "</div>"
   ]
  },
  {
   "cell_type": "code",
   "execution_count": 6,
   "id": "99851237-d9d1-42cd-ad84-345ceeb30d9a",
   "metadata": {},
   "outputs": [],
   "source": [
    "dfs_craiova_arad = dfs(\"Craiova\",\"Arad\")"
   ]
  },
  {
   "cell_type": "code",
   "execution_count": 7,
   "id": "cb3fd7db-b9d3-4bf1-a3fa-b538d6d279ec",
   "metadata": {},
   "outputs": [],
   "source": [
    "dfs_craiova_arad_viable_path = get_viable_path_from_algo(dfs_craiova_arad)"
   ]
  },
  {
   "cell_type": "code",
   "execution_count": 8,
   "id": "82cadd96-4937-4e81-8223-1587b8754bb6",
   "metadata": {},
   "outputs": [
    {
     "name": "stdout",
     "output_type": "stream",
     "text": [
      "Craiova -> Rimnicu Vilcea -> Sibiu -> Arad\n"
     ]
    }
   ],
   "source": [
    "ilustrar_percurso(dfs_craiova_arad_viable_path)"
   ]
  },
  {
   "cell_type": "code",
   "execution_count": 9,
   "id": "9397825a-2624-4394-a6fe-1c289e78a664",
   "metadata": {},
   "outputs": [],
   "source": [
    "dfs_craiova_arad_cost = get_custo_total(dfs_craiova_arad_viable_path)"
   ]
  },
  {
   "cell_type": "code",
   "execution_count": 10,
   "id": "f6298499-cb4b-454b-a84d-4bacc655be25",
   "metadata": {},
   "outputs": [
    {
     "data": {
      "image/png": "[encoded data removed]",
      "text/plain": [
       "<Figure size 750x750 with 1 Axes>"
      ]
     },
     "metadata": {},
     "output_type": "display_data"
    }
   ],
   "source": [
    "highlight_path(dfs_craiova_arad, dfs_craiova_arad_cost, dfs_craiova_arad_viable_path)"
   ]
  },
  {
   "cell_type": "markdown",
   "id": "3dbc5926-d44d-499a-bea6-227ad504b970",
   "metadata": {},
   "source": [
    "<div class=\"alert alert-block alert-info\">\n",
    "<b>Utilizando o código do professor</b>, encontramos uma rota similar de <b>Craiova até Arad</b>:\n",
    "\n",
    "<code style=\"background:black;color:white\">Craiova -> Pitesti -> Bucharest -> Fagaras -> Sibiu -> Arad</code>\n",
    "</div>"
   ]
  },
  {
   "cell_type": "code",
   "execution_count": 11,
   "id": "07744e6b-3ba3-40c0-8760-671eda46d1b0",
   "metadata": {},
   "outputs": [
    {
     "name": "stdout",
     "output_type": "stream",
     "text": [
      "Busca teve sucesso\n",
      "Solucao: [(Craiova, 0), (Pitesti, 138), (Bucharest, 239), (Fagaras, 450), (Sibiu, 549), (Arad, 689)]\n"
     ]
    }
   ],
   "source": [
    "problema_craiova_arad = Problema(estados_romenia, No('Craiova', 0, None, None), lambda no: no.estado == 'Arad')\n",
    "busca_profundidade_craiova_arad = BuscaProfundidade(problema_craiova_arad)\n",
    "busca_profundidade_craiova_arad.executar()"
   ]
  },
  {
   "cell_type": "markdown",
   "id": "ed1ed2c1-6713-4855-b8c8-273b8a318a93",
   "metadata": {},
   "source": [
    "<div class=\"alert alert-block alert-warning\">\n",
    "    3. Usando a implementação de busca em profundidade desenvolvida para a questão anterior,\n",
    "    resolva o problema de busca de rotas na Romênia (de Arad a Bucareste), usando os dados\n",
    "    do livro e que estão disponíveis no código-fonte. Mostre o passo a passo da solução\n",
    "    através da busca em profundidade e como a sequência de nós explorados difere da busca\n",
    "    em largura.\n",
    "</div>"
   ]
  },
  {
   "cell_type": "markdown",
   "id": "63d7b7ff-0798-4d27-a597-162ef92c70be",
   "metadata": {},
   "source": [
    "<div class=\"alert alert-block alert-info\">\n",
    "O código abaixo irá ilustrar o processo de decisão do algoritmo passo a passo a cada nó novo descoberto\n",
    "<br>\n",
    "<br>\n",
    "O seguinte caminho será ilustrado: \n",
    "<code style=\"background:black;color:white\">Arad -> Sibiu -> Oradea -> Fagaras -> Bucharest</code>\n",
    "</div>"
   ]
  },
  {
   "cell_type": "code",
   "execution_count": 12,
   "id": "56cc4232-0d9c-4592-8ded-caffd59d5211",
   "metadata": {},
   "outputs": [
    {
     "ename": "NameError",
     "evalue": "name 'dfs_arad_bucharest' is not defined",
     "output_type": "error",
     "traceback": [
      "\u001b[1;31m---------------------------------------------------------------------------\u001b[0m",
      "\u001b[1;31mNameError\u001b[0m                                 Traceback (most recent call last)",
      "Input \u001b[1;32mIn [12]\u001b[0m, in \u001b[0;36m<cell line: 1>\u001b[1;34m()\u001b[0m\n\u001b[1;32m----> 1\u001b[0m ilustrar_percurso(\u001b[43mdfs_arad_bucharest\u001b[49m)\n",
      "\u001b[1;31mNameError\u001b[0m: name 'dfs_arad_bucharest' is not defined"
     ]
    }
   ],
   "source": [
    "ilustrar_percurso(dfs_arad_bucharest)"
   ]
  },
  {
   "cell_type": "code",
   "execution_count": null,
   "id": "0e2cfab8-d83b-4f91-b43a-4341667a1254",
   "metadata": {},
   "outputs": [],
   "source": [
    "dfs_arad_bucharest = dfs(\"Arad\", \"Bucharest\", illustrate=True)"
   ]
  },
  {
   "cell_type": "markdown",
   "id": "99ec3d12-27cf-4d88-9357-24d21f755b9a",
   "metadata": {},
   "source": [
    "<div class=\"alert alert-block alert-info\">\n",
    "O trajeto <code style=\"background:black;color:white\">Arad -> Sibiu -> Oradea -> Fagaras -> Bucharest</code> descoberto pelo algoritmo de DFS <b>não configura um caminho válido</b> pois não é possível ir diretamente de <b>Oradea</b> para <b>Fagaras</b>, há a necessidade de se chamar a função <code>get_viable_path_from_algo</code> para que seja possível extrair um caminho <b>válido</b> dessa lista de nós.\n",
    "<br>\n",
    "<br>\n",
    "O caminho válido que a função <code>get_viable_path_from_algo</code> deve retornar será: <code style=\"background:black;color:white\">Arad -> Sibiu -> Fagaras -> Bucharest</code>\n",
    "\n",
    "</div>\n"
   ]
  },
  {
   "cell_type": "code",
   "execution_count": null,
   "id": "f153748c-257d-4c51-8018-c05b3b24d6f8",
   "metadata": {},
   "outputs": [],
   "source": [
    "dfs_arad_bucharest_viable_path = get_viable_path_from_algo(dfs_arad_bucharest)"
   ]
  },
  {
   "cell_type": "code",
   "execution_count": null,
   "id": "d19c9be5-6da8-41f0-a3d2-d2487842582a",
   "metadata": {},
   "outputs": [],
   "source": [
    "ilustrar_percurso(dfs_arad_bucharest_viable_path)"
   ]
  },
  {
   "cell_type": "markdown",
   "id": "240b2316-9c9e-4681-9f76-f71deced6da0",
   "metadata": {},
   "source": [
    "<div class=\"alert alert-block alert-info\">\n",
    "    Analisando o mesmo problema utilizando o algoritmo <b>BFS</b> podemos ilustrar claramente as diferenças entre os percusos dos dois algoritmos\n",
    "</div>\n"
   ]
  },
  {
   "cell_type": "code",
   "execution_count": null,
   "id": "9cf65125-ff19-4851-83c2-efefeff6fd12",
   "metadata": {},
   "outputs": [],
   "source": [
    "def bfs(start, goal, illustrate=False, optimize=True):\n",
    "    if start == goal:\n",
    "        return [start]\n",
    "    fila = [start]\n",
    "    algoritmo = []\n",
    "    while fila:\n",
    "        estado_atual = fila.pop(0)\n",
    "        algoritmo.append(estado_atual)\n",
    "        all_acoes = get_all_acoes(estado_atual).copy()\n",
    "        random.shuffle(all_acoes) #Para permitir que o algoritmo escolha caminhos diferentes toda vez que for chamado\n",
    "        if optimize:\n",
    "            if goal in get_all_destinos(estado_atual):\n",
    "                algoritmo.append(goal)\n",
    "                fila.insert(0, goal)\n",
    "                if illustrate:\n",
    "                    print(f\"Estado atual: {estado_atual}\")\n",
    "                    illustrate_queue(fila)\n",
    "                    print(\"\\n\")\n",
    "                return algoritmo\n",
    "            for acao in all_acoes:\n",
    "                #Evita que entrem na fila\n",
    "                if acao[\"destino\"] not in algoritmo and acao[\"destino\"] not in fila:\n",
    "                    fila.append(acao[\"destino\"])\n",
    "        else:\n",
    "            if estado_atual == goal:\n",
    "                return algoritmo\n",
    "            for acao in all_acoes:\n",
    "                if acao[\"destino\"] not in algoritmo:\n",
    "                    fila.append(acao[\"destino\"])\n",
    "        if illustrate:\n",
    "            print(f\"Estado atual: {estado_atual}\")\n",
    "            illustrate_queue(fila)\n",
    "            #time.sleep(2)\n",
    "            print(\"\\n\")\n",
    "    return False"
   ]
  },
  {
   "cell_type": "code",
   "execution_count": null,
   "id": "8fc3e834-c97f-4f97-829d-4df129bb23ac",
   "metadata": {},
   "outputs": [],
   "source": [
    "random.seed(0)\n",
    "bfs_arad_bucharest = bfs(\"Arad\",\"Bucharest\", illustrate=True, optimize=True)"
   ]
  },
  {
   "cell_type": "code",
   "execution_count": null,
   "id": "10cbe431-dd3d-4301-890d-bd814322d89c",
   "metadata": {},
   "outputs": [],
   "source": [
    "ilustrar_percurso(bfs_arad_bucharest)"
   ]
  },
  {
   "cell_type": "markdown",
   "id": "27b30b77-6eca-4d07-b42c-4fecbc21a050",
   "metadata": {},
   "source": [
    "<div class=\"alert alert-block alert-info\">\n",
    "Seguindo o mesmo processo feito anteriormente, podemos extrair um caminho viável do percurso <code style=\"background:black;color:white\">Arad -> Zerind -> Timisoara -> Sibiu -> Oradea -> Lugoj -> Fagaras -> Bucharest</code>\n",
    "    <br>\n",
    "    <br>\n",
    "    Tal percurso seria nesse caso: <code style=\"background:black;color:white\">Arad -> Sibiu -> Fagaras -> Bucharest</code>\n",
    "</div>"
   ]
  },
  {
   "cell_type": "code",
   "execution_count": null,
   "id": "b9ad6dda-bf23-4bc4-8c0e-db9b5b3ca5d5",
   "metadata": {},
   "outputs": [],
   "source": [
    "bfs_arad_bucharest_viable_path = get_viable_path_from_algo(bfs_arad_bucharest)\n",
    "ilustrar_percurso(bfs_arad_bucharest_viable_path)"
   ]
  },
  {
   "cell_type": "markdown",
   "id": "b405078d-92bf-416d-97ef-0a5aaf30f0ea",
   "metadata": {},
   "source": [
    "<div class=\"alert alert-block alert-info\">\n",
    "    Com os dois algoritmos rodados para o mesmo trajeto podemos então ilustrar por meio da biblioteca NetworkX os algoritmos e os trajetos viáveis encontrados dentro deles, através da função <code>highlight_path</code>\n",
    "</div>"
   ]
  },
  {
   "cell_type": "code",
   "execution_count": null,
   "id": "33b4da81-5497-4cae-8eaf-94612d8d0115",
   "metadata": {},
   "outputs": [],
   "source": [
    "#Gráfico para o algoritmo DFS\n",
    "highlight_path(dfs_arad_bucharest, get_custo_total(dfs_arad_bucharest_viable_path), dfs_arad_bucharest_viable_path)"
   ]
  },
  {
   "cell_type": "code",
   "execution_count": null,
   "id": "f666e570-98ae-4cd9-a5fc-11906c847c9c",
   "metadata": {},
   "outputs": [],
   "source": [
    "#Gráfico para o algoritmo BFS\n",
    "highlight_path(bfs_arad_bucharest, get_custo_total(bfs_arad_bucharest_viable_path), bfs_arad_bucharest_viable_path)"
   ]
  },
  {
   "cell_type": "markdown",
   "id": "c3892967-4c75-40f9-ab4a-5ddf38dcd868",
   "metadata": {},
   "source": [
    "<div class=\"alert alert-block alert-info\">\n",
    "    Ainda mais, por meio de <b>força bruta</b>, podemos analisar se encontramos algum outro caminho mais eficiente, ou seja, com um <b>menor custo</b>, do que o caminho encontrado previamente.\n",
    "</div>"
   ]
  },
  {
   "cell_type": "code",
   "execution_count": null,
   "id": "846b93f4-dc5e-4e7f-9f47-debcb82cd33f",
   "metadata": {},
   "outputs": [],
   "source": [
    "def brute_force_lowest_cost(starting_point, ending_point, search_algo='dfs', max_iter=300):\n",
    "    '''\n",
    "    Função que realiza uma busca em força bruta para encontrar o menor custo de um caminho entre dois pontos.\n",
    "    '''\n",
    "    highest_cost = 0\n",
    "    lowest_cost = 100000\n",
    "    lowest_cost_path = []\n",
    "    highest_cost_path = []\n",
    "    for i in range(max_iter):\n",
    "        if search_algo == 'dfs':\n",
    "            algo = dfs(starting_point, ending_point)\n",
    "        elif search_algo == 'bfs':\n",
    "            algo = bfs(starting_point, ending_point)\n",
    "        viable_path = get_viable_path_from_algo(algo)\n",
    "        custo_total = get_custo_total(viable_path)\n",
    "        if custo_total < lowest_cost:\n",
    "            lowest_cost = custo_total\n",
    "            lowest_cost_path = viable_path\n",
    "        if custo_total > highest_cost:\n",
    "            highest_cost = custo_total\n",
    "            highest_cost_path = viable_path\n",
    "    return {'lowest_cost': lowest_cost, 'lowest_cost_path': lowest_cost_path, 'highest_cost': highest_cost, 'highest_cost_path': highest_cost_path}\n",
    "\n",
    "dfs_arad_bucharest_brute_force = brute_force_lowest_cost(\"Arad\", \"Bucharest\", search_algo='dfs', max_iter=1000)\n",
    "bfs_arad_bucharest_brute_force = brute_force_lowest_cost(\"Arad\", \"Bucharest\", search_algo='bfs', max_iter=1000)"
   ]
  },
  {
   "cell_type": "code",
   "execution_count": null,
   "id": "d27da382-a035-42d8-be7e-dba55be0e2c9",
   "metadata": {},
   "outputs": [],
   "source": [
    "bfs_arad_eforie_brute_force = brute_force_lowest_cost(\"Arad\", \"Eforie\", search_algo='bfs', max_iter=1000)"
   ]
  },
  {
   "cell_type": "code",
   "execution_count": null,
   "id": "e94eb94c-4745-42b4-af2d-722491b12ac8",
   "metadata": {},
   "outputs": [],
   "source": [
    "dfs_arad_bucharest_brute_force"
   ]
  },
  {
   "cell_type": "code",
   "execution_count": null,
   "id": "91ea555e-4e26-4d1c-973d-8b604c9e5449",
   "metadata": {},
   "outputs": [],
   "source": [
    "bfs_arad_bucharest_brute_force"
   ]
  },
  {
   "cell_type": "markdown",
   "id": "2d370b82-4ab5-4bc0-97d7-a4e7dd05d5b0",
   "metadata": {},
   "source": [
    "<div class=\"alert alert-block alert-info\">\n",
    "    Podemos ver então que para o algoritmo de <b>DFS</b> o caminho de menor custo é de <b>418</b>, enquanto do de maior custo, tem um custo aproximadamente duas vezes maior: <b>838</b>\n",
    "    <br>\n",
    "    <br>\n",
    "    Já para o algoritmo de <b>BFS</b>, sempre é gerado o mesmo percurso para o trajeto <b>Arad -> Bucharest</b>, com valor de <b>450</b>.\n",
    "        <br>\n",
    "    <br>\n",
    "    Abaixo podemos <b>visualizar as diferenças entre os três trajetos encontrados</b> (O trajeto de maior e menor com algoritmo DFS, e o trajeto com o algoritmo BFS)\n",
    "</div>"
   ]
  },
  {
   "cell_type": "code",
   "execution_count": null,
   "id": "cc8216c2-5a3a-40aa-b1bd-cc1ed87a2255",
   "metadata": {},
   "outputs": [],
   "source": [
    "dfs_menor_custo = dfs_arad_bucharest_brute_force\n",
    "highlight_path(dfs_arad_bucharest_brute_force['lowest_cost_path'], dfs_arad_bucharest_brute_force['lowest_cost'] ,dfs_arad_bucharest_brute_force['lowest_cost_path'])"
   ]
  },
  {
   "cell_type": "code",
   "execution_count": null,
   "id": "cef12765-1f65-46e1-ade0-c1e9fb050485",
   "metadata": {},
   "outputs": [],
   "source": [
    "highlight_path(dfs_arad_bucharest_brute_force['highest_cost_path'], dfs_arad_bucharest_brute_force['highest_cost'], dfs_arad_bucharest_brute_force['highest_cost_path'])"
   ]
  },
  {
   "cell_type": "code",
   "execution_count": null,
   "id": "2bb773ee-1f5c-4ddf-9335-114abb7bd32b",
   "metadata": {},
   "outputs": [],
   "source": [
    "bfs_menor_custo = bfs_arad_bucharest_brute_force\n",
    "highlight_path(bfs_arad_bucharest_brute_force['highest_cost_path'], bfs_arad_bucharest_brute_force['highest_cost'], bfs_arad_bucharest_brute_force['highest_cost_path'])"
   ]
  },
  {
   "cell_type": "markdown",
   "id": "84916d83-bb4e-4da5-a65d-45fdb4be5daf",
   "metadata": {},
   "source": [
    "<div class=\"alert alert-block alert-info\">\n",
    "    É interessante destacar que apesar do trajeto <b>mais eficiente utilizando o algoritmo DFS</b> (<code>dfs_arad_bucharest_brute_force['lowest_cost_path']</code>) possuir um maior número de cidades nele (5), o seu custo total (418) é <b>inferior ao custo do trajeto encontrado utilizando o algoritmo BFS</b> que possui em seu trajeto, 4 cidades e um custo de 450\n",
    "</div>"
   ]
  },
  {
   "cell_type": "markdown",
   "id": "6282dc73-6003-4491-a039-1cd7eae415ad",
   "metadata": {},
   "source": [
    "<div class=\"alert alert-block alert-warning\">\n",
    "    4. Escolha um outro problema que pode ser resolvido por busca (pode ser utilizado algum\n",
    "    dos problemas formulados na Atividade 5) e resolva-o utilizando busca em largura e busca\n",
    "    em profundidade. Mostre as mudanças que foram necessárias no código e o\n",
    "    passo-a-passo da solução.\n",
    "</div>"
   ]
  },
  {
   "cell_type": "markdown",
   "id": "ff6b096b-0211-4b1a-ad54-73032931fb0f",
   "metadata": {},
   "source": [
    "<div class=\"alert alert-block alert-info\">\n",
    "É possível encontra a saída de um labirinto utilizando o algoritmo de busca em profundidade, para isso basta enxergar o labirinto como um grafo, onde cada nó é uma casa do labirinto, e então aplicar o algoritmo de busca em profundidade para encontrar um caminho entre a posição inicial e a posição final do labirinto.\n",
    "\n",
    "As regras para o labirinto são as seguintes:\n",
    "    <ul>\n",
    "        <li>O labirinto é representado por uma matriz de caracteres, onde cada caractere representa uma casa do labirinto</li>\n",
    "        <li>Não é possível se movimentar na diagonal</li>\n",
    "        <li>O caractere <b>'.'</b>, ou o emoji ⬜, representam uma <b>casa vazia</b></li>\n",
    "        <li>O caractere '<b>#</b>', ou o emoji ⬛, representam uma <b>casa bloqueada</b></li>\n",
    "        <li>O caractere '<b>E</b>', ou o emoji 🟥, representam a <b>posição final (saída)</b> do labirinto</li>\n",
    "        <li>O caractere '<b>S</b>', ou o emoji 🟩, representam a <b>posição inicial</b> do labirinto</li>\n",
    "        <li>O caractere '<b>X</b>', ou o emoji 🟦, representam o <b>caminho já andado</b> pelo personagem</li>\n",
    "        <li>O caractere '<b>P</b>', ou o emoji 👾, representam a <b>posição atual</b> do personagem</li>\n",
    "    </ul>\n",
    "\n",
    "<b>O algoritmo dfs para encontrar a saída do labirinto(`labyrinth_dfs`) é essencialmente idêntico ao construído anteriormente para o problema anterior da Romenia(`dfs`)</b>, sendo a maior diferença entre eles as suas funções auxiliares, especialmente as funções para enxergar os caminhos possíveis, no caso da Romenia os dados dos estados já estavam montados, indicando quais eram os possiveis caminhos que poderiam ser seguidos a partir de um determinado nó, já <b>no problema do labirinto é necessário extrapolar quais casas se conectam com quais outras casas.</b> As conexões entre as casas foram determinadas através das funções `get_adjacent_locations` e `get_valid_moves`.\n",
    "    \n",
    "</div>"
   ]
  },
  {
   "cell_type": "code",
   "execution_count": null,
   "id": "45912b25-d2f2-432a-92ae-0e0e8acb493b",
   "metadata": {},
   "outputs": [],
   "source": [
    "#Funções auxiliares\n",
    "\n",
    "def print_location_in_maze(location, path, emoji=False):\n",
    "    '''\n",
    "    Função que imprime o labirinto com a localização atual do personagem.\n",
    "    '''\n",
    "    print(\"•───────────•✤•───────────•\")\n",
    "    print(\"\")\n",
    "    for i in range(len(maze)):\n",
    "        for j in range(len(maze[i])):\n",
    "            if i == location[0] and j == location[1]:\n",
    "                if emoji:\n",
    "                    print(\"👾\", end=\" \")\n",
    "                else:\n",
    "                    print(\"P\", end=\" \")\n",
    "            else:\n",
    "                if emoji:\n",
    "                    if maze[i][j] == \"#\":\n",
    "                        print(\"⬛\", end=\" \")\n",
    "                    elif maze[i][j] == \"S\":\n",
    "                        print(\"🟩\", end=\" \")\n",
    "                    elif maze[i][j] == \"E\":\n",
    "                        print(\"🟥\", end=\" \")\n",
    "                    #Check if the current location is in the path\n",
    "                    elif [i, j] in path:\n",
    "                        print(\"🟦\", end=\" \")\n",
    "                    else:\n",
    "                        print(\"⬜\", end=\" \")\n",
    "                else:\n",
    "                    if [i, j] in path:\n",
    "                        print(\"X\", end=\" \")\n",
    "                    \n",
    "        print(\"\")\n",
    "    print(\"•───────────•✤•───────────•\")\n",
    "    \n",
    "def get_adjacent_locations(location):\n",
    "    '''\n",
    "    Função que retorna as posições adjacentes à localização atual.\n",
    "    '''\n",
    "    adjacent_locations = []\n",
    "    if location[0] > 0:\n",
    "        adjacent_locations.append([location[0]-1, location[1]])\n",
    "    if location[0] < len(maze)-1:\n",
    "        adjacent_locations.append([location[0]+1, location[1]])\n",
    "    if location[1] > 0:\n",
    "        adjacent_locations.append([location[0], location[1]-1])\n",
    "    if location[1] < len(maze[0])-1:\n",
    "        adjacent_locations.append([location[0], location[1]+1])\n",
    "    return adjacent_locations\n",
    "\n",
    "def get_valid_moves(location):\n",
    "    '''\n",
    "    Função que retorna as posições adjacentes à localização atual que não são rochas.\n",
    "    '''\n",
    "    adjacent_locations = get_adjacent_locations(location)\n",
    "    valid_moves = []\n",
    "    for adjacent_location in adjacent_locations:\n",
    "        if maze[adjacent_location[0]][adjacent_location[1]] != \"#\":\n",
    "            valid_moves.append(adjacent_location)\n",
    "    return valid_moves\n",
    "\n",
    "def get_viable_labyrinth_path_from_dfs(algo_path):\n",
    "    '''\n",
    "    Função que retorna um caminho válido do labirinto a partir da busca em profundidade.\n",
    "    '''\n",
    "    viable_path = []\n",
    "    for i in range(len(maze)):\n",
    "        for j in range(len(maze[i])):\n",
    "            if maze[i][j] == \"S\":\n",
    "                starting_point = [i, j]\n",
    "            if maze[i][j] == \"E\":\n",
    "                ending_point = [i, j]\n",
    "    viable_path.append(starting_point)\n",
    "    ultimo_ponto_de_viabilidade = ending_point\n",
    "    for i in range(1, len(algo_path)-1):\n",
    "        valid_moves = get_valid_moves(ultimo_ponto_de_viabilidade)\n",
    "        if algo_path[-1-i] in valid_moves:\n",
    "            ultimo_ponto_de_viabilidade = algo_path[-1-i]\n",
    "            viable_path.insert(1, ultimo_ponto_de_viabilidade)\n",
    "    viable_path.append(ending_point)\n",
    "    return viable_path\n",
    "\n",
    "def brute_force_most_viable_path(max_iter = 1000):\n",
    "    shortest_path = []\n",
    "    shortest_path_length = 100000\n",
    "    for i in range(max_iter):\n",
    "        algo = labyrinth_dfs()\n",
    "        viable_path = get_viable_labyrinth_path_from_dfs(algo)\n",
    "        if len(viable_path) < shortest_path_length:\n",
    "            shortest_path_length = len(viable_path)\n",
    "            shortest_path = viable_path\n",
    "    return shortest_path"
   ]
  },
  {
   "cell_type": "code",
   "execution_count": null,
   "id": "eeeea4a5-8097-4953-8b73-3842446ed413",
   "metadata": {},
   "outputs": [],
   "source": [
    "#DFS para o labirinto\n",
    "def labyrinth_dfs(illustrate=False):\n",
    "    for i in range(len(maze)):\n",
    "        for j in range(len(maze[i])):\n",
    "            if maze[i][j] == \"S\":\n",
    "                starting_point = [i, j]\n",
    "            if maze[i][j] == \"E\":\n",
    "                ending_point = [i, j]\n",
    "    pilha = [starting_point]\n",
    "    algoritmo = []\n",
    "    while pilha:\n",
    "        location = pilha.pop()\n",
    "        algoritmo.append(location)\n",
    "        if illustrate:\n",
    "            print_location_in_maze(location, algoritmo, emoji=True)\n",
    "        if ending_point in get_valid_moves(location):\n",
    "            algoritmo.append(ending_point)\n",
    "            if illustrate:\n",
    "                print_location_in_maze(ending_point, algoritmo, emoji=True)\n",
    "            return algoritmo\n",
    "        valid_moves = get_valid_moves(location)\n",
    "        random.shuffle(valid_moves)\n",
    "        for move in valid_moves:\n",
    "            if move not in algoritmo and move not in pilha:\n",
    "                pilha.append(move)\n",
    "    return False"
   ]
  },
  {
   "cell_type": "markdown",
   "id": "bdc077ce-d1c9-4299-870f-edeca9cff068",
   "metadata": {},
   "source": [
    "<div class=\"alert alert-block alert-info\">\n",
    "    Com a função de <b>DFS</b> adaptada para o nosso labirinto, podemos então iniciar um labirinto <code>maze</code> e aplicar a função <code>labyrinth_dfs</code> nele.\n",
    "</div>"
   ]
  },
  {
   "cell_type": "code",
   "execution_count": null,
   "id": "0f38773a-f832-4b84-b778-45e41ac8a1f1",
   "metadata": {},
   "outputs": [],
   "source": [
    "maze = [[\"S\", \".\", \".\", \"#\", \".\", \".\", \".\"],\n",
    "        [\".\", \"#\", \".\", \".\", \".\", \"#\", \".\"],\n",
    "        [\".\", \"#\", \".\", \".\", \".\", \".\", \".\"],\n",
    "        [\".\", \".\", \"#\", \"#\", \".\", \".\", \".\"],\n",
    "        [\"#\", \".\", \"#\", \"E\", \".\", \"#\", \".\"]]\n",
    "        #S = Start, E = End, # = Rock, . = Empty\n",
    "\n",
    "lab_algo_path = labyrinth_dfs(illustrate=True)"
   ]
  },
  {
   "cell_type": "markdown",
   "id": "ede80c09-47cb-4882-8700-5539261bd4ac",
   "metadata": {},
   "source": [
    "<div class=\"alert alert-block alert-info\">\n",
    "    Visto como o BFS explorou o algoritmo, podemos agora gerar um caminho válido para resolvê-lo através da função <code>get_viable_labyrinth_path_from_dfs</code>\n",
    "</div>"
   ]
  },
  {
   "cell_type": "code",
   "execution_count": null,
   "id": "b8b29863-095b-42c4-843a-493b4ad4260b",
   "metadata": {},
   "outputs": [],
   "source": [
    "viable_path = get_viable_labyrinth_path_from_dfs(lab_algo_path)\n",
    "for i in range(len(viable_path)):\n",
    "    print(f\"Passo {i}\")\n",
    "    print_location_in_maze(viable_path[i], viable_path[:i], emoji=True)\n",
    "    #time.sleep(1)\n",
    "    print(\"\")"
   ]
  },
  {
   "cell_type": "markdown",
   "id": "b3aaa732-0ec7-4caf-a8e6-fb45a2572354",
   "metadata": {},
   "source": [
    "<div class=\"alert alert-block alert-info\">\n",
    "    Podemos também gerar um labirinto maior, de forma aleatória, e rodar nosso algoritmo de DFS nesse novo labirinto, e encontrar não só uma solução para ele, como uma possível melhor solução, por meio de força bruta.\n",
    "</div>"
   ]
  },
  {
   "cell_type": "code",
   "execution_count": null,
   "id": "ad98e8ba-7ee1-46eb-8489-c77bc46a3cd9",
   "metadata": {},
   "outputs": [],
   "source": [
    "#Gerar um labirinto aleatório de 20x20\n",
    "viable_maze = False\n",
    "while not viable_maze:\n",
    "    maze = []\n",
    "    for i in range(20):\n",
    "        maze.append([])\n",
    "        for j in range(20):\n",
    "            if i == 0 and j == 0:\n",
    "                maze[i].append(\"S\")\n",
    "            elif i == 19 and j == 19:\n",
    "                maze[i].append(\"E\")\n",
    "            else:\n",
    "                if random.randint(0,1) == 0:\n",
    "                    maze[i].append(\".\")\n",
    "                else:\n",
    "                    maze[i].append(\"#\")\n",
    "    viable_maze = labyrinth_dfs() #Retorna verdadeiro quando é gerado um labirinto resolvivel"
   ]
  },
  {
   "cell_type": "code",
   "execution_count": null,
   "id": "08ce993a-3245-4b3a-be10-15fef89a4aae",
   "metadata": {},
   "outputs": [],
   "source": [
    "viable_path = get_viable_labyrinth_path_from_dfs(viable_maze)"
   ]
  },
  {
   "cell_type": "code",
   "execution_count": null,
   "id": "1441d138-bc46-4299-92bf-c2086d706a8e",
   "metadata": {},
   "outputs": [],
   "source": [
    "len(viable_path)"
   ]
  },
  {
   "cell_type": "markdown",
   "id": "4c0942d1-c623-439f-910b-113d930955f3",
   "metadata": {},
   "source": [
    "<div class=\"alert alert-block alert-info\">\n",
    "    Foi encontrado um caminho válido para resolver o algoritmo com 54 passos.\n",
    "</div>"
   ]
  },
  {
   "cell_type": "code",
   "execution_count": null,
   "id": "4e800cc3-8320-4051-bc1b-6b7b07d3eb8f",
   "metadata": {
    "tags": []
   },
   "outputs": [],
   "source": [
    "for i in range(len(viable_path)):\n",
    "    print_location_in_maze(viable_path[i], viable_path[:i], emoji=True)"
   ]
  },
  {
   "cell_type": "code",
   "execution_count": null,
   "id": "a7c07051-34e1-4f1f-a52d-5c0addaf748c",
   "metadata": {},
   "outputs": [],
   "source": [
    "brute_force = brute_force_most_viable_path(max_iter = 100_000)"
   ]
  },
  {
   "cell_type": "code",
   "execution_count": null,
   "id": "854785a4-7568-4888-9090-986eb7b801c1",
   "metadata": {},
   "outputs": [],
   "source": [
    "len(viable_path) - len(brute_force)"
   ]
  },
  {
   "cell_type": "markdown",
   "id": "40d8e4ad-60ad-4083-8d2d-ac15623411e8",
   "metadata": {},
   "source": [
    "<div class=\"alert alert-block alert-info\">\n",
    "Através do uso de força bruta, conseguimos encontrar uma outra solução para o algoritmo que utiliza-se de <b>8 passos a menos do que a solução original.</b>\n",
    "</div>"
   ]
  },
  {
   "cell_type": "code",
   "execution_count": null,
   "id": "1ad2e60d-22de-4f78-b4e5-724683406bbd",
   "metadata": {
    "tags": []
   },
   "outputs": [],
   "source": [
    "for i in range(len(brute_force)):\n",
    "    print_location_in_maze(brute_force[i], brute_force[:i], emoji=True)"
   ]
  },
  {
   "cell_type": "code",
   "execution_count": null,
   "id": "b01e8ec0-0a95-45ac-a355-24b07892c255",
   "metadata": {},
   "outputs": [],
   "source": [
    "len(viable_path) - len(brute_force)"
   ]
  }
 ],
 "metadata": {
  "kernelspec": {
   "display_name": "Python 3 (ipykernel)",
   "language": "python",
   "name": "python3"
  },
  "language_info": {
   "codemirror_mode": {
    "name": "ipython",
    "version": 3
   },
   "file_extension": ".py",
   "mimetype": "text/x-python",
   "name": "python",
   "nbconvert_exporter": "python",
   "pygments_lexer": "ipython3",
   "version": "3.10.4"
  }
 },
 "nbformat": 4,
 "nbformat_minor": 5
}
